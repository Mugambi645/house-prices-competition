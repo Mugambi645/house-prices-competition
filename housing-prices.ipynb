{
 "cells": [
  {
   "cell_type": "markdown",
   "id": "8445cd84-6fd7-40e1-bd52-5bab7a360f57",
   "metadata": {},
   "source": [
    "<h3>House Prices Regression Analysis</h3>\n",
    "<h5>--A Kaggle Project--</h5>"
   ]
  },
  {
   "cell_type": "markdown",
   "id": "f5f80188-1f30-49f4-b309-c2d9fe0717c8",
   "metadata": {},
   "source": [
    "<h4>Steps for the Project</h4>\n",
    "<ul>\n",
    "    <li>Loading Datasets</li>\n",
    "    <ul>\n",
    "        <li>Loading both train and test datasets </li>\n",
    "    </ul>\n",
    "</ul>\n",
    "<ul>\n",
    "    <li>Summary of Data</li>\n",
    "    <ul>\n",
    "        <li>Total Samples</li>\n",
    "        <li>Total Features</li>\n",
    "        <li>Total Categorical Features</li>\n",
    "        <li>Total Numerical Features</li>\n",
    "        <li>Statistics of Numerical Features</li>\n",
    "        <li>Value Count of Categorical Features</li>\n",
    "        <li>Unique Values DataFrame</li>\n",
    "        <li>Null Values DataFrame</li>\n",
    "    </ul>\n",
    "</ul>\n",
    "<ul>\n",
    "    <li>Preprocessing</li>\n",
    "    <ul>\n",
    "        <li>Drop Duplicates</li>\n",
    "        <li>Drop Columns with more than 80% null values</li>\n",
    "        <li>Drop uninformative columns</li>\n",
    "        <li>Drop Columns with single unique values</li>\n",
    "        <li>Inpute Null Values</li>\n",
    "        <li>Create New Features</li>\n",
    "        <li>Outlier Analysis and Removal</li>\n",
    "        <li>Drop Columns with single unique values again after outlier analysis</li>\n",
    "    </ul>\n",
    "</ul>\n",
    "<ul>\n",
    "    <li>Data Visualization</li>\n",
    "    <ul>\n",
    "        <li>Scatterplot of numerical features</li>\n",
    "        <li>Distribution of numerical features</li>\n",
    "        <li>BarCharts of categorical features</li>\n",
    "        <li>Box plots to check the outliers</li>\n",
    "    </ul>\n",
    "</ul>\n",
    "<ul>\n",
    "    <li>Feature Transformation</li>\n",
    "</ul>"
   ]
  },
  {
   "cell_type": "code",
   "execution_count": null,
   "id": "40c0d3a1-c9da-42ff-aa58-1e0400e13ea2",
   "metadata": {},
   "outputs": [],
   "source": []
  }
 ],
 "metadata": {
  "kernelspec": {
   "display_name": "Python 3 (ipykernel)",
   "language": "python",
   "name": "python3"
  },
  "language_info": {
   "codemirror_mode": {
    "name": "ipython",
    "version": 3
   },
   "file_extension": ".py",
   "mimetype": "text/x-python",
   "name": "python",
   "nbconvert_exporter": "python",
   "pygments_lexer": "ipython3",
   "version": "3.12.6"
  }
 },
 "nbformat": 4,
 "nbformat_minor": 5
}
